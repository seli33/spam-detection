{
 "cells": [
  {
   "cell_type": "markdown",
   "id": "f3d0529a",
   "metadata": {},
   "source": [
    "# Importing the important libraries and dataset"
   ]
  },
  {
   "cell_type": "code",
   "execution_count": 132,
   "id": "ace3c5a0",
   "metadata": {},
   "outputs": [
    {
     "name": "stderr",
     "output_type": "stream",
     "text": [
      "[nltk_data] Downloading package stopwords to\n",
      "[nltk_data]     C:\\Users\\selin\\AppData\\Roaming\\nltk_data...\n",
      "[nltk_data]   Package stopwords is already up-to-date!\n",
      "[nltk_data] Downloading package punkt to\n",
      "[nltk_data]     C:\\Users\\selin\\AppData\\Roaming\\nltk_data...\n",
      "[nltk_data]   Package punkt is already up-to-date!\n",
      "[nltk_data] Downloading package punkt_tab to\n",
      "[nltk_data]     C:\\Users\\selin\\AppData\\Roaming\\nltk_data...\n",
      "[nltk_data]   Package punkt_tab is already up-to-date!\n"
     ]
    }
   ],
   "source": [
    "import pandas as pd\n",
    "import matplotlib.pyplot as plt\n",
    "import seaborn as sns\n",
    "# data preprocessing\n",
    "import nltk\n",
    "nltk.download('stopwords')\n",
    "nltk.download('punkt')\n",
    "nltk.download('punkt_tab')\n",
    "import string\n",
    "from nltk.corpus import stopwords\n",
    "from nltk.stem import WordNetLemmatizer\n",
    "from nltk.tokenize import sent_tokenize, word_tokenize\n",
    "import re\n",
    "from collections import Counter\n",
    "from wordcloud import WordCloud\n",
    "from sklearn.preprocessing import LabelEncoder\n",
    "\n",
    "# Model Building\n",
    "from sklearn.feature_extraction.text import TfidfVectorizer\n",
    "from sklearn.model_selection import train_test_split\n",
    "from sklearn.metrics import accuracy_score,confusion_matrix,precision_score\n",
    "from sklearn.svm import SVC\n",
    "from sklearn.ensemble import RandomForestClassifier\n",
    "from sklearn.naive_bayes import MultinomialNB"
   ]
  },
  {
   "cell_type": "code",
   "execution_count": 133,
   "id": "06cf6ef0",
   "metadata": {},
   "outputs": [],
   "source": [
    "data = pd.read_csv(\"spam.csv\",encoding='latin1')\n"
   ]
  },
  {
   "cell_type": "markdown",
   "id": "12b82e5f",
   "metadata": {},
   "source": [
    "### Step 1 Data Cleaning"
   ]
  },
  {
   "cell_type": "markdown",
   "id": "ef683ddb",
   "metadata": {},
   "source": [
    "#### `data.sample(5)` will randomly pick 5 emails from the dataset"
   ]
  },
  {
   "cell_type": "code",
   "execution_count": 134,
   "id": "da8ab8fe",
   "metadata": {},
   "outputs": [
    {
     "data": {
      "text/html": [
       "<div>\n",
       "<style scoped>\n",
       "    .dataframe tbody tr th:only-of-type {\n",
       "        vertical-align: middle;\n",
       "    }\n",
       "\n",
       "    .dataframe tbody tr th {\n",
       "        vertical-align: top;\n",
       "    }\n",
       "\n",
       "    .dataframe thead th {\n",
       "        text-align: right;\n",
       "    }\n",
       "</style>\n",
       "<table border=\"1\" class=\"dataframe\">\n",
       "  <thead>\n",
       "    <tr style=\"text-align: right;\">\n",
       "      <th></th>\n",
       "      <th>v1</th>\n",
       "      <th>v2</th>\n",
       "      <th>Unnamed: 2</th>\n",
       "      <th>Unnamed: 3</th>\n",
       "      <th>Unnamed: 4</th>\n",
       "    </tr>\n",
       "  </thead>\n",
       "  <tbody>\n",
       "    <tr>\n",
       "      <th>4252</th>\n",
       "      <td>ham</td>\n",
       "      <td>Juz now havent woke up so a bit blur blur... C...</td>\n",
       "      <td>NaN</td>\n",
       "      <td>NaN</td>\n",
       "      <td>NaN</td>\n",
       "    </tr>\n",
       "    <tr>\n",
       "      <th>3646</th>\n",
       "      <td>ham</td>\n",
       "      <td>Hey babe, my friend had to cancel, still up fo...</td>\n",
       "      <td>NaN</td>\n",
       "      <td>NaN</td>\n",
       "      <td>NaN</td>\n",
       "    </tr>\n",
       "    <tr>\n",
       "      <th>4355</th>\n",
       "      <td>ham</td>\n",
       "      <td>Great. So should i send you my account number.</td>\n",
       "      <td>NaN</td>\n",
       "      <td>NaN</td>\n",
       "      <td>NaN</td>\n",
       "    </tr>\n",
       "    <tr>\n",
       "      <th>2697</th>\n",
       "      <td>ham</td>\n",
       "      <td>Can you use foreign stamps for whatever you se...</td>\n",
       "      <td>NaN</td>\n",
       "      <td>NaN</td>\n",
       "      <td>NaN</td>\n",
       "    </tr>\n",
       "    <tr>\n",
       "      <th>1099</th>\n",
       "      <td>ham</td>\n",
       "      <td>Been up to ne thing interesting. Did you have ...</td>\n",
       "      <td>NaN</td>\n",
       "      <td>NaN</td>\n",
       "      <td>NaN</td>\n",
       "    </tr>\n",
       "  </tbody>\n",
       "</table>\n",
       "</div>"
      ],
      "text/plain": [
       "       v1                                                 v2 Unnamed: 2  \\\n",
       "4252  ham  Juz now havent woke up so a bit blur blur... C...        NaN   \n",
       "3646  ham  Hey babe, my friend had to cancel, still up fo...        NaN   \n",
       "4355  ham     Great. So should i send you my account number.        NaN   \n",
       "2697  ham  Can you use foreign stamps for whatever you se...        NaN   \n",
       "1099  ham  Been up to ne thing interesting. Did you have ...        NaN   \n",
       "\n",
       "     Unnamed: 3 Unnamed: 4  \n",
       "4252        NaN        NaN  \n",
       "3646        NaN        NaN  \n",
       "4355        NaN        NaN  \n",
       "2697        NaN        NaN  \n",
       "1099        NaN        NaN  "
      ]
     },
     "execution_count": 134,
     "metadata": {},
     "output_type": "execute_result"
    }
   ],
   "source": [
    "data.sample(5)"
   ]
  },
  {
   "cell_type": "code",
   "execution_count": 135,
   "id": "80dc0bcb",
   "metadata": {},
   "outputs": [
    {
     "data": {
      "text/plain": [
       "(5572, 5)"
      ]
     },
     "execution_count": 135,
     "metadata": {},
     "output_type": "execute_result"
    }
   ],
   "source": [
    "data.shape"
   ]
  },
  {
   "cell_type": "markdown",
   "id": "a61c81a4",
   "metadata": {},
   "source": [
    "#### Remove unnecessary columns named “Unnamed: 2,” “Unnamed: 3,” and “Unnamed: 4.”"
   ]
  },
  {
   "cell_type": "code",
   "execution_count": 136,
   "id": "21bb9ce4",
   "metadata": {},
   "outputs": [],
   "source": [
    "data.drop(columns=[\"Unnamed: 2\", \"Unnamed: 3\", \"Unnamed: 4\"], inplace=True)"
   ]
  },
  {
   "cell_type": "markdown",
   "id": "b86b5804",
   "metadata": {},
   "source": [
    "#### Rename two columns to make them more understandable: “v1” becomes “result,” and “v2” becomes \"emails\""
   ]
  },
  {
   "cell_type": "code",
   "execution_count": 137,
   "id": "142c39e9",
   "metadata": {},
   "outputs": [],
   "source": [
    "data.rename(columns={'v1': 'result', 'v2': 'emails'}, inplace=True)"
   ]
  },
  {
   "cell_type": "markdown",
   "id": "b85ac534",
   "metadata": {},
   "source": [
    "#### First five dataset to show the changes"
   ]
  },
  {
   "cell_type": "code",
   "execution_count": 138,
   "id": "6fa8b74a",
   "metadata": {},
   "outputs": [
    {
     "data": {
      "text/html": [
       "<div>\n",
       "<style scoped>\n",
       "    .dataframe tbody tr th:only-of-type {\n",
       "        vertical-align: middle;\n",
       "    }\n",
       "\n",
       "    .dataframe tbody tr th {\n",
       "        vertical-align: top;\n",
       "    }\n",
       "\n",
       "    .dataframe thead th {\n",
       "        text-align: right;\n",
       "    }\n",
       "</style>\n",
       "<table border=\"1\" class=\"dataframe\">\n",
       "  <thead>\n",
       "    <tr style=\"text-align: right;\">\n",
       "      <th></th>\n",
       "      <th>result</th>\n",
       "      <th>emails</th>\n",
       "    </tr>\n",
       "  </thead>\n",
       "  <tbody>\n",
       "    <tr>\n",
       "      <th>0</th>\n",
       "      <td>ham</td>\n",
       "      <td>Go until jurong point, crazy.. Available only ...</td>\n",
       "    </tr>\n",
       "    <tr>\n",
       "      <th>1</th>\n",
       "      <td>ham</td>\n",
       "      <td>Ok lar... Joking wif u oni...</td>\n",
       "    </tr>\n",
       "    <tr>\n",
       "      <th>2</th>\n",
       "      <td>spam</td>\n",
       "      <td>Free entry in 2 a wkly comp to win FA Cup fina...</td>\n",
       "    </tr>\n",
       "    <tr>\n",
       "      <th>3</th>\n",
       "      <td>ham</td>\n",
       "      <td>U dun say so early hor... U c already then say...</td>\n",
       "    </tr>\n",
       "    <tr>\n",
       "      <th>4</th>\n",
       "      <td>ham</td>\n",
       "      <td>Nah I don't think he goes to usf, he lives aro...</td>\n",
       "    </tr>\n",
       "  </tbody>\n",
       "</table>\n",
       "</div>"
      ],
      "text/plain": [
       "  result                                             emails\n",
       "0    ham  Go until jurong point, crazy.. Available only ...\n",
       "1    ham                      Ok lar... Joking wif u oni...\n",
       "2   spam  Free entry in 2 a wkly comp to win FA Cup fina...\n",
       "3    ham  U dun say so early hor... U c already then say...\n",
       "4    ham  Nah I don't think he goes to usf, he lives aro..."
      ]
     },
     "execution_count": 138,
     "metadata": {},
     "output_type": "execute_result"
    }
   ],
   "source": [
    "data.head(5)"
   ]
  },
  {
   "cell_type": "markdown",
   "id": "49126e8f",
   "metadata": {},
   "source": [
    "#### Check and remove missing or duplicate entries\n"
   ]
  },
  {
   "cell_type": "code",
   "execution_count": 139,
   "id": "df86ea67",
   "metadata": {},
   "outputs": [
    {
     "data": {
      "text/plain": [
       "result    0\n",
       "emails    0\n",
       "dtype: int64"
      ]
     },
     "execution_count": 139,
     "metadata": {},
     "output_type": "execute_result"
    }
   ],
   "source": [
    "data.isnull().sum()"
   ]
  },
  {
   "cell_type": "code",
   "execution_count": 140,
   "id": "da73d42b",
   "metadata": {},
   "outputs": [
    {
     "data": {
      "text/plain": [
       "np.int64(403)"
      ]
     },
     "execution_count": 140,
     "metadata": {},
     "output_type": "execute_result"
    }
   ],
   "source": [
    "data.duplicated().sum()"
   ]
  },
  {
   "cell_type": "code",
   "execution_count": 141,
   "id": "cbe34582",
   "metadata": {},
   "outputs": [
    {
     "data": {
      "text/plain": [
       "(5169, 2)"
      ]
     },
     "execution_count": 141,
     "metadata": {},
     "output_type": "execute_result"
    }
   ],
   "source": [
    "data = data.drop_duplicates(keep='first')\n",
    "data.shape"
   ]
  },
  {
   "cell_type": "code",
   "execution_count": 142,
   "id": "3dfad278",
   "metadata": {},
   "outputs": [
    {
     "data": {
      "text/html": [
       "<div>\n",
       "<style scoped>\n",
       "    .dataframe tbody tr th:only-of-type {\n",
       "        vertical-align: middle;\n",
       "    }\n",
       "\n",
       "    .dataframe tbody tr th {\n",
       "        vertical-align: top;\n",
       "    }\n",
       "\n",
       "    .dataframe thead th {\n",
       "        text-align: right;\n",
       "    }\n",
       "</style>\n",
       "<table border=\"1\" class=\"dataframe\">\n",
       "  <thead>\n",
       "    <tr style=\"text-align: right;\">\n",
       "      <th></th>\n",
       "      <th>result</th>\n",
       "      <th>emails</th>\n",
       "    </tr>\n",
       "  </thead>\n",
       "  <tbody>\n",
       "    <tr>\n",
       "      <th>0</th>\n",
       "      <td>ham</td>\n",
       "      <td>Go until jurong point, crazy.. Available only ...</td>\n",
       "    </tr>\n",
       "    <tr>\n",
       "      <th>1</th>\n",
       "      <td>ham</td>\n",
       "      <td>Ok lar... Joking wif u oni...</td>\n",
       "    </tr>\n",
       "    <tr>\n",
       "      <th>2</th>\n",
       "      <td>spam</td>\n",
       "      <td>Free entry in 2 a wkly comp to win FA Cup fina...</td>\n",
       "    </tr>\n",
       "    <tr>\n",
       "      <th>3</th>\n",
       "      <td>ham</td>\n",
       "      <td>U dun say so early hor... U c already then say...</td>\n",
       "    </tr>\n",
       "    <tr>\n",
       "      <th>4</th>\n",
       "      <td>ham</td>\n",
       "      <td>Nah I don't think he goes to usf, he lives aro...</td>\n",
       "    </tr>\n",
       "  </tbody>\n",
       "</table>\n",
       "</div>"
      ],
      "text/plain": [
       "  result                                             emails\n",
       "0    ham  Go until jurong point, crazy.. Available only ...\n",
       "1    ham                      Ok lar... Joking wif u oni...\n",
       "2   spam  Free entry in 2 a wkly comp to win FA Cup fina...\n",
       "3    ham  U dun say so early hor... U c already then say...\n",
       "4    ham  Nah I don't think he goes to usf, he lives aro..."
      ]
     },
     "execution_count": 142,
     "metadata": {},
     "output_type": "execute_result"
    }
   ],
   "source": [
    "data.head()"
   ]
  },
  {
   "cell_type": "markdown",
   "id": "bff713e7",
   "metadata": {},
   "source": [
    "### Data Cleaning is done upuntil now"
   ]
  },
  {
   "cell_type": "markdown",
   "id": "09eb776a",
   "metadata": {},
   "source": [
    "## Step 2 Exploratory Data Analysis"
   ]
  },
  {
   "cell_type": "markdown",
   "id": "e04e32b1",
   "metadata": {},
   "source": [
    "### Pie chart to show the distribution of spam and ham in the data"
   ]
  },
  {
   "cell_type": "code",
   "execution_count": 143,
   "id": "7b9f7b22",
   "metadata": {},
   "outputs": [
    {
     "data": {
      "text/plain": [
       "result\n",
       "ham     4516\n",
       "spam     653\n",
       "Name: count, dtype: int64"
      ]
     },
     "execution_count": 143,
     "metadata": {},
     "output_type": "execute_result"
    }
   ],
   "source": [
    "data['result'].value_counts()"
   ]
  },
  {
   "cell_type": "markdown",
   "id": "a59a1c0f",
   "metadata": {},
   "source": [
    "#### When you use .index, you get the labels"
   ]
  },
  {
   "cell_type": "code",
   "execution_count": 144,
   "id": "407fdf9d",
   "metadata": {},
   "outputs": [
    {
     "data": {
      "text/plain": [
       "Index(['ham', 'spam'], dtype='object', name='result')"
      ]
     },
     "execution_count": 144,
     "metadata": {},
     "output_type": "execute_result"
    }
   ],
   "source": [
    "data['result'].value_counts().index"
   ]
  },
  {
   "cell_type": "code",
   "execution_count": 145,
   "id": "99c5fbbf",
   "metadata": {},
   "outputs": [
    {
     "data": {
      "image/png": "[encoded data removed]",
      "text/plain": [
       "<Figure size 640x480 with 1 Axes>"
      ]
     },
     "metadata": {},
     "output_type": "display_data"
    }
   ],
   "source": [
    "plt.Figure(figsize=(9,9))\n",
    "plt.pie(data['result'].value_counts(),\n",
    "        labels=data['result'].value_counts().index,\n",
    "        autopct='%1.1f%%',\n",
    "        startangle=90)\n",
    "plt.title('Distribution of Spam and Non-Spam Emails')\n",
    "plt.axis('equal') \n",
    "plt.show()"
   ]
  },
  {
   "cell_type": "markdown",
   "id": "40964aa5",
   "metadata": {},
   "source": [
    "##### autopct='%1.1f%%'\n",
    "##### This tells Matplotlib to display percent values on each slice.%1.1f%% means:1 digit before the decimal,1 digit after the decimal.The double % is how you print a literal % sign"
   ]
  },
  {
   "cell_type": "markdown",
   "id": "d5830f4f",
   "metadata": {},
   "source": [
    "##  Average Length of Emails for Spam and Ham"
   ]
  },
  {
   "cell_type": "code",
   "execution_count": 146,
   "id": "5b099398",
   "metadata": {},
   "outputs": [
    {
     "data": {
      "text/html": [
       "<div>\n",
       "<style scoped>\n",
       "    .dataframe tbody tr th:only-of-type {\n",
       "        vertical-align: middle;\n",
       "    }\n",
       "\n",
       "    .dataframe tbody tr th {\n",
       "        vertical-align: top;\n",
       "    }\n",
       "\n",
       "    .dataframe thead th {\n",
       "        text-align: right;\n",
       "    }\n",
       "</style>\n",
       "<table border=\"1\" class=\"dataframe\">\n",
       "  <thead>\n",
       "    <tr style=\"text-align: right;\">\n",
       "      <th></th>\n",
       "      <th>result</th>\n",
       "      <th>emails</th>\n",
       "      <th>length</th>\n",
       "      <th>num_words</th>\n",
       "      <th>num_sentences</th>\n",
       "    </tr>\n",
       "  </thead>\n",
       "  <tbody>\n",
       "    <tr>\n",
       "      <th>0</th>\n",
       "      <td>ham</td>\n",
       "      <td>Go until jurong point, crazy.. Available only ...</td>\n",
       "      <td>111</td>\n",
       "      <td>24</td>\n",
       "      <td>2</td>\n",
       "    </tr>\n",
       "    <tr>\n",
       "      <th>1</th>\n",
       "      <td>ham</td>\n",
       "      <td>Ok lar... Joking wif u oni...</td>\n",
       "      <td>29</td>\n",
       "      <td>8</td>\n",
       "      <td>2</td>\n",
       "    </tr>\n",
       "  </tbody>\n",
       "</table>\n",
       "</div>"
      ],
      "text/plain": [
       "  result                                             emails  length  \\\n",
       "0    ham  Go until jurong point, crazy.. Available only ...     111   \n",
       "1    ham                      Ok lar... Joking wif u oni...      29   \n",
       "\n",
       "   num_words  num_sentences  \n",
       "0         24              2  \n",
       "1          8              2  "
      ]
     },
     "execution_count": 146,
     "metadata": {},
     "output_type": "execute_result"
    }
   ],
   "source": [
    "data['length']=data['emails'].apply(len)\n",
    "data['num_words']=data['emails'].apply(word_tokenize).apply(len)\n",
    "data['num_sentences'] = data['emails'].apply(sent_tokenize).apply(len)\n",
    "data.head(2)"
   ]
  },
  {
   "cell_type": "markdown",
   "id": "a6cca28a",
   "metadata": {},
   "source": [
    "#### word_tokenize: This function (from the nltk.tokenize module) splits a sentence into individual words. \n",
    "#### sent_tokenize: This function (from nltk.tokenize) breaks the text into sentences."
   ]
  },
  {
   "cell_type": "code",
   "execution_count": 147,
   "id": "66d93947",
   "metadata": {},
   "outputs": [
    {
     "name": "stdout",
     "output_type": "stream",
     "text": [
      "Average Length of Spam Emails: 137.89127105666157\n",
      "Average Length of Ham Emails: 70.45925597874225\n"
     ]
    }
   ],
   "source": [
    "avg_length_spam=data[data['result']=='spam']['length'].mean()\n",
    "avg_length_ham=data[data['result']=='ham']['length'].mean()\n",
    "print(\"Average Length of Spam Emails:\", avg_length_spam)\n",
    "print(\"Average Length of Ham Emails:\", avg_length_ham)\n"
   ]
  },
  {
   "cell_type": "code",
   "execution_count": 148,
   "id": "7fe003da",
   "metadata": {},
   "outputs": [
    {
     "data": {
      "image/png": "[encoded data removed]",
      "text/plain": [
       "<Figure size 640x480 with 1 Axes>"
      ]
     },
     "metadata": {},
     "output_type": "display_data"
    }
   ],
   "source": [
    "plt.bar(['Spam','Ham'],[avg_length_spam,avg_length_ham],color=['pink','purple'])\n",
    "plt.title('Bar graph of average of length of Spam and Ham')\n",
    "plt.xlabel('Email type')\n",
    "plt.ylabel('Avg length')\n",
    "plt.show()"
   ]
  },
  {
   "cell_type": "markdown",
   "id": "95379ed4",
   "metadata": {},
   "source": [
    "#### The graph shows that spams have longer sentences than hams"
   ]
  },
  {
   "cell_type": "markdown",
   "id": "a3a8a5a5",
   "metadata": {},
   "source": [
    "### Relationship between Length and Spam"
   ]
  },
  {
   "cell_type": "code",
   "execution_count": 149,
   "id": "4eaac154",
   "metadata": {},
   "outputs": [
    {
     "name": "stdout",
     "output_type": "stream",
     "text": [
      "Correlation coefficient between email length and spam classification: 0.38471706671430644\n"
     ]
    },
    {
     "data": {
      "image/png": "[encoded data removed]",
      "text/plain": [
       "<Figure size 640x480 with 1 Axes>"
      ]
     },
     "metadata": {},
     "output_type": "display_data"
    }
   ],
   "source": [
    "correlation = data['length'].corr((data['result'] == 'spam').astype(int))\n",
    "print(\"Correlation coefficient between email length and spam classification:\", correlation)\n",
    "\n",
    "\n",
    "sns.violinplot(data=data, x='length', y='result', hue='result')\n",
    "plt.xlabel('Email Length')\n",
    "plt.ylabel('Spam Classification')\n",
    "plt.title('Relationship between Email Length and Spam Classification')\n",
    "plt.show()"
   ]
  },
  {
   "cell_type": "markdown",
   "id": "0d78f6ec",
   "metadata": {},
   "source": [
    "### Another way to find the correlation between string and integer"
   ]
  },
  {
   "cell_type": "code",
   "execution_count": 150,
   "id": "372d68be",
   "metadata": {},
   "outputs": [
    {
     "name": "stdout",
     "output_type": "stream",
     "text": [
      "0.38471706671430644\n"
     ]
    }
   ],
   "source": [
    "data['result_encoded'] = data['result'].map({'ham': 0, 'spam': 1})\n",
    "\n",
    "# Now compute correlation\n",
    "corr = data['result_encoded'].corr(data['length'])\n",
    "print(corr)"
   ]
  },
  {
   "cell_type": "code",
   "execution_count": 151,
   "id": "b2fd062a",
   "metadata": {},
   "outputs": [
    {
     "name": "stdout",
     "output_type": "stream",
     "text": [
      "The Relationship between Features are                   length  num_words  num_sentences\n",
      "length         1.000000   0.965760       0.624139\n",
      "num_words      0.965760   1.000000       0.679971\n",
      "num_sentences  0.624139   0.679971       1.000000\n"
     ]
    }
   ],
   "source": [
    "correlation_matrix=data[['length','num_words','num_sentences']].corr()\n",
    "print(\"The Relationship between Features are \",correlation_matrix )"
   ]
  },
  {
   "cell_type": "code",
   "execution_count": 152,
   "id": "e2c6b0b1",
   "metadata": {},
   "outputs": [
    {
     "data": {
      "image/png": "[encoded data removed]",
      "text/plain": [
       "<Figure size 640x480 with 2 Axes>"
      ]
     },
     "metadata": {},
     "output_type": "display_data"
    }
   ],
   "source": [
    "# Visualize the relationship between features using heatmap\n",
    "sns.heatmap(correlation_matrix,annot=True,cmap='coolwarm',fmt=\".2f\",linewidths=.5)\n",
    "plt.title('Correlation Matrix of Features')\n",
    "plt.xlabel('Features')\n",
    "plt.ylabel('Features')\n",
    "plt.show()"
   ]
  },
  {
   "cell_type": "code",
   "execution_count": 153,
   "id": "fb2ab55f",
   "metadata": {},
   "outputs": [
    {
     "data": {
      "text/html": [
       "<div>\n",
       "<style scoped>\n",
       "    .dataframe tbody tr th:only-of-type {\n",
       "        vertical-align: middle;\n",
       "    }\n",
       "\n",
       "    .dataframe tbody tr th {\n",
       "        vertical-align: top;\n",
       "    }\n",
       "\n",
       "    .dataframe thead th {\n",
       "        text-align: right;\n",
       "    }\n",
       "</style>\n",
       "<table border=\"1\" class=\"dataframe\">\n",
       "  <thead>\n",
       "    <tr style=\"text-align: right;\">\n",
       "      <th></th>\n",
       "      <th>result</th>\n",
       "      <th>emails</th>\n",
       "      <th>length</th>\n",
       "      <th>num_words</th>\n",
       "      <th>num_sentences</th>\n",
       "      <th>result_encoded</th>\n",
       "    </tr>\n",
       "  </thead>\n",
       "  <tbody>\n",
       "    <tr>\n",
       "      <th>0</th>\n",
       "      <td>ham</td>\n",
       "      <td>Go until jurong point, crazy.. Available only ...</td>\n",
       "      <td>111</td>\n",
       "      <td>24</td>\n",
       "      <td>2</td>\n",
       "      <td>0</td>\n",
       "    </tr>\n",
       "    <tr>\n",
       "      <th>1</th>\n",
       "      <td>ham</td>\n",
       "      <td>Ok lar... Joking wif u oni...</td>\n",
       "      <td>29</td>\n",
       "      <td>8</td>\n",
       "      <td>2</td>\n",
       "      <td>0</td>\n",
       "    </tr>\n",
       "    <tr>\n",
       "      <th>2</th>\n",
       "      <td>spam</td>\n",
       "      <td>Free entry in 2 a wkly comp to win FA Cup fina...</td>\n",
       "      <td>155</td>\n",
       "      <td>37</td>\n",
       "      <td>2</td>\n",
       "      <td>1</td>\n",
       "    </tr>\n",
       "    <tr>\n",
       "      <th>3</th>\n",
       "      <td>ham</td>\n",
       "      <td>U dun say so early hor... U c already then say...</td>\n",
       "      <td>49</td>\n",
       "      <td>13</td>\n",
       "      <td>1</td>\n",
       "      <td>0</td>\n",
       "    </tr>\n",
       "    <tr>\n",
       "      <th>4</th>\n",
       "      <td>ham</td>\n",
       "      <td>Nah I don't think he goes to usf, he lives aro...</td>\n",
       "      <td>61</td>\n",
       "      <td>15</td>\n",
       "      <td>1</td>\n",
       "      <td>0</td>\n",
       "    </tr>\n",
       "  </tbody>\n",
       "</table>\n",
       "</div>"
      ],
      "text/plain": [
       "  result                                             emails  length  \\\n",
       "0    ham  Go until jurong point, crazy.. Available only ...     111   \n",
       "1    ham                      Ok lar... Joking wif u oni...      29   \n",
       "2   spam  Free entry in 2 a wkly comp to win FA Cup fina...     155   \n",
       "3    ham  U dun say so early hor... U c already then say...      49   \n",
       "4    ham  Nah I don't think he goes to usf, he lives aro...      61   \n",
       "\n",
       "   num_words  num_sentences  result_encoded  \n",
       "0         24              2               0  \n",
       "1          8              2               0  \n",
       "2         37              2               1  \n",
       "3         13              1               0  \n",
       "4         15              1               0  "
      ]
     },
     "execution_count": 153,
     "metadata": {},
     "output_type": "execute_result"
    }
   ],
   "source": [
    "data.head()"
   ]
  },
  {
   "cell_type": "markdown",
   "id": "c8099967",
   "metadata": {},
   "source": [
    "### Data Processing"
   ]
  },
  {
   "cell_type": "code",
   "execution_count": 154,
   "id": "4f02eb4c",
   "metadata": {},
   "outputs": [
    {
     "name": "stderr",
     "output_type": "stream",
     "text": [
      "[nltk_data] Downloading package wordnet to\n",
      "[nltk_data]     C:\\Users\\selin\\AppData\\Roaming\\nltk_data...\n",
      "[nltk_data]   Package wordnet is already up-to-date!\n"
     ]
    },
    {
     "data": {
      "text/plain": [
       "True"
      ]
     },
     "execution_count": 154,
     "metadata": {},
     "output_type": "execute_result"
    }
   ],
   "source": [
    "import nltk\n",
    "nltk.download('wordnet')"
   ]
  },
  {
   "cell_type": "code",
   "execution_count": 155,
   "id": "0610ba42",
   "metadata": {},
   "outputs": [],
   "source": [
    "#ps=PorterStemmer() //stemming\n",
    "\n",
    "lemmatizer=WordNetLemmatizer()\n",
    "stop_words=set(stopwords.words('english'))\n",
    "#pos stands for part of speech ,\n",
    "# If you don't give a POS, it defaults to noun, which may not always give correct base forms.\n",
    "# Function to get POS tag for lemmatization (simplified)\n",
    "def get_pos(word):\n",
    "    return 'v'  # Defaulting to verb for simplicity\n",
    "\n",
    "#Preprocessing function\n",
    "def preprocess(text):\n",
    "    text = text.lower()\n",
    "    tokens = word_tokenize(text)\n",
    "    clean_tokens = []\n",
    "    for word in tokens:\n",
    "        word = re.sub(r'[^a-zA-Z0-9]', '', word)\n",
    "        if word and word not in stop_words:\n",
    "            lemma = lemmatizer.lemmatize(word, pos=get_pos(word))\n",
    "            clean_tokens.append(lemma)\n",
    "    return ' '.join(clean_tokens)\n",
    "\n",
    "# Apply preprocessing\n",
    "data['transform_text'] = data['emails'].apply(preprocess)\n",
    "# Show result\n",
    "#print(data[['emails', 'transform_text']].head())\n",
    "\n",
    "\n",
    "#data['transform_text'] = data['emails'].str.lower()\n",
    "# Tokenization\n",
    "#data['transform_text'] = data['transform_text'].apply(word_tokenize)\n",
    "\n",
    "# Removing special characters\n",
    "#data['transform_text'] = data['transform_text'].apply(lambda x: [re.sub(r'[^a-zA-Z0-9\\s]', '', word) for word in x])\n",
    "\n",
    "# Removing stop words and punctuation\n",
    "#stop_words = set(stopwords.words('english'))\n",
    "#data['transform_text'] = data['transform_text'].apply(lambda x: [word for word in x if word not in stop_words and word not in string.punctuation])\n",
    "\n",
    "# Stemming\n",
    "#ps = PorterStemmer()\n",
    "#data['transform_text'] = data['transform_text'].apply(lambda x: [ps.stem(word) for word in x])\n",
    "\n",
    "# Convert the preprocessed text back to string\n",
    "#data['transform_text'] = data['transform_text'].apply(lambda x: ' '.join(x))\n",
    "\n",
    "# Display the preprocessed data\n",
    "#print(data[['emails', 'transform_text']].head())"
   ]
  },
  {
   "cell_type": "markdown",
   "id": "394c4445",
   "metadata": {},
   "source": [
    "#### The transformed_text is the final cleaned data for the ml model"
   ]
  },
  {
   "cell_type": "code",
   "execution_count": 156,
   "id": "c85e0364",
   "metadata": {},
   "outputs": [
    {
     "data": {
      "text/html": [
       "<div>\n",
       "<style scoped>\n",
       "    .dataframe tbody tr th:only-of-type {\n",
       "        vertical-align: middle;\n",
       "    }\n",
       "\n",
       "    .dataframe tbody tr th {\n",
       "        vertical-align: top;\n",
       "    }\n",
       "\n",
       "    .dataframe thead th {\n",
       "        text-align: right;\n",
       "    }\n",
       "</style>\n",
       "<table border=\"1\" class=\"dataframe\">\n",
       "  <thead>\n",
       "    <tr style=\"text-align: right;\">\n",
       "      <th></th>\n",
       "      <th>result</th>\n",
       "      <th>emails</th>\n",
       "      <th>length</th>\n",
       "      <th>num_words</th>\n",
       "      <th>num_sentences</th>\n",
       "      <th>result_encoded</th>\n",
       "      <th>transform_text</th>\n",
       "    </tr>\n",
       "  </thead>\n",
       "  <tbody>\n",
       "    <tr>\n",
       "      <th>0</th>\n",
       "      <td>ham</td>\n",
       "      <td>Go until jurong point, crazy.. Available only ...</td>\n",
       "      <td>111</td>\n",
       "      <td>24</td>\n",
       "      <td>2</td>\n",
       "      <td>0</td>\n",
       "      <td>go jurong point crazy available bugis n great ...</td>\n",
       "    </tr>\n",
       "    <tr>\n",
       "      <th>1</th>\n",
       "      <td>ham</td>\n",
       "      <td>Ok lar... Joking wif u oni...</td>\n",
       "      <td>29</td>\n",
       "      <td>8</td>\n",
       "      <td>2</td>\n",
       "      <td>0</td>\n",
       "      <td>ok lar joke wif u oni</td>\n",
       "    </tr>\n",
       "    <tr>\n",
       "      <th>2</th>\n",
       "      <td>spam</td>\n",
       "      <td>Free entry in 2 a wkly comp to win FA Cup fina...</td>\n",
       "      <td>155</td>\n",
       "      <td>37</td>\n",
       "      <td>2</td>\n",
       "      <td>1</td>\n",
       "      <td>free entry 2 wkly comp win fa cup final tkts 2...</td>\n",
       "    </tr>\n",
       "    <tr>\n",
       "      <th>3</th>\n",
       "      <td>ham</td>\n",
       "      <td>U dun say so early hor... U c already then say...</td>\n",
       "      <td>49</td>\n",
       "      <td>13</td>\n",
       "      <td>1</td>\n",
       "      <td>0</td>\n",
       "      <td>u dun say early hor u c already say</td>\n",
       "    </tr>\n",
       "    <tr>\n",
       "      <th>4</th>\n",
       "      <td>ham</td>\n",
       "      <td>Nah I don't think he goes to usf, he lives aro...</td>\n",
       "      <td>61</td>\n",
       "      <td>15</td>\n",
       "      <td>1</td>\n",
       "      <td>0</td>\n",
       "      <td>nah nt think go usf live around though</td>\n",
       "    </tr>\n",
       "  </tbody>\n",
       "</table>\n",
       "</div>"
      ],
      "text/plain": [
       "  result                                             emails  length  \\\n",
       "0    ham  Go until jurong point, crazy.. Available only ...     111   \n",
       "1    ham                      Ok lar... Joking wif u oni...      29   \n",
       "2   spam  Free entry in 2 a wkly comp to win FA Cup fina...     155   \n",
       "3    ham  U dun say so early hor... U c already then say...      49   \n",
       "4    ham  Nah I don't think he goes to usf, he lives aro...      61   \n",
       "\n",
       "   num_words  num_sentences  result_encoded  \\\n",
       "0         24              2               0   \n",
       "1          8              2               0   \n",
       "2         37              2               1   \n",
       "3         13              1               0   \n",
       "4         15              1               0   \n",
       "\n",
       "                                      transform_text  \n",
       "0  go jurong point crazy available bugis n great ...  \n",
       "1                              ok lar joke wif u oni  \n",
       "2  free entry 2 wkly comp win fa cup final tkts 2...  \n",
       "3                u dun say early hor u c already say  \n",
       "4             nah nt think go usf live around though  "
      ]
     },
     "execution_count": 156,
     "metadata": {},
     "output_type": "execute_result"
    }
   ],
   "source": [
    "data.head()"
   ]
  },
  {
   "cell_type": "markdown",
   "id": "03652921",
   "metadata": {},
   "source": [
    "### Time for preparing data for ML:Label Encoding and Vectorization"
   ]
  }
 ],
 "metadata": {
  "kernelspec": {
   "display_name": "Python 3",
   "language": "python",
   "name": "python3"
  },
  "language_info": {
   "codemirror_mode": {
    "name": "ipython",
    "version": 3
   },
   "file_extension": ".py",
   "mimetype": "text/x-python",
   "name": "python",
   "nbconvert_exporter": "python",
   "pygments_lexer": "ipython3",
   "version": "3.12.0"
  }
 },
 "nbformat": 4,
 "nbformat_minor": 5
}
